{
 "cells": [
  {
   "cell_type": "markdown",
   "metadata": {},
   "source": [
    "# LAB-03"
   ]
  },
  {
   "cell_type": "markdown",
   "metadata": {},
   "source": [
    "# Programe 1"
   ]
  },
  {
   "cell_type": "markdown",
   "metadata": {},
   "source": [
    "# 1.Practicing with math operators"
   ]
  },
  {
   "cell_type": "code",
   "execution_count": 2,
   "metadata": {},
   "outputs": [
    {
     "name": "stdout",
     "output_type": "stream",
     "text": [
      "sum is: 32\n",
      "difference is: -12\n",
      "produict is: 220\n",
      "division is: 0.45454545454545453\n",
      "raised to the power is: 10000000000000000000000\n",
      "Remainder is: 10\n"
     ]
    }
   ],
   "source": [
    "# math operators in python\n",
    "# taking two values\n",
    "a = 10\n",
    "b = 22\n",
    "# using sum operator\n",
    "print(\"sum is:\",a + b)\n",
    "# using subtract operator\n",
    "print(\"difference is:\", a - b)\n",
    "# using multiplication operator\n",
    "print(\"produict is:\", a*b)\n",
    "# using division operator\n",
    "print(\"division is:\", a/b)\n",
    "# using power operator\n",
    "print(\"raised to the power is:\", a**b)\n",
    "# using module operator\n",
    "print(\"Remainder is:\", a%b)"
   ]
  },
  {
   "cell_type": "markdown",
   "metadata": {},
   "source": [
    "# Program 2 Write a program to use assignment operators "
   ]
  },
  {
   "cell_type": "code",
   "execution_count": 37,
   "metadata": {},
   "outputs": [
    {
     "name": "stdout",
     "output_type": "stream",
     "text": [
      "add assingment is: 8\n",
      "The value of x is: 5\n",
      "the value of x is: 15\n",
      "division of x is 5.0\n",
      "remainder is: 2.0\n",
      "0.0\n",
      "power raised of x is: 0.0\n",
      "and operator of x is: 0.0\n",
      "value of x is: True\n",
      "0\n",
      "0\n"
     ]
    }
   ],
   "source": [
    "# using assingment operators\n",
    "x = 5\n",
    "# add assingment operator\n",
    "x= x+3\n",
    "print(\"add assingment is:\", x)\n",
    "#using subtract assingmet operator\n",
    "x = x-3\n",
    "print (\"The value of x is:\", x)\n",
    "# using multiply assing operator\n",
    "x= x*3\n",
    "print(\"the value of x is:\", x )\n",
    "#using division operator\n",
    "x=x/3\n",
    "print(\"division of x is\", x)\n",
    "# using module operator\n",
    "x= x%3\n",
    "print(\"remainder is:\", x)\n",
    "x = x//3\n",
    "print(x)\n",
    "x= x**3\n",
    "print(\"power raised of x is:\", x)\n",
    "#x = x & 3\n",
    "print(\"and operator of x is:\", x)\n",
    "x= x!=3\n",
    "print(\"value of x is:\", x)\n",
    "x=x>>3\n",
    "print(x)\n",
    "x=x<<3\n",
    "print(x)"
   ]
  },
  {
   "cell_type": "markdown",
   "metadata": {},
   "source": [
    "# Program 3: Write a program to perform comparison operators."
   ]
  },
  {
   "cell_type": "code",
   "execution_count": 14,
   "metadata": {},
   "outputs": [
    {
     "name": "stdout",
     "output_type": "stream",
     "text": [
      "x is equal to y: False\n",
      "x is not equal to y: True\n",
      "x is Greater than y: True\n",
      "x is Less than y: False\n",
      "x is Greater than or equal to y: True\n",
      "x is Less than or equal to : False\n"
     ]
    }
   ],
   "source": [
    "x = 20\n",
    "y = 15\n",
    "print(\"x is equal to y:\", x == y)\n",
    "print(\"x is not equal to y:\", x != y)\n",
    "print(\"x is Greater than y:\",x > y)\n",
    "print(\"x is Less than y:\",x < y)\n",
    "print(\"x is Greater than or equal to y:\",x >= y)\n",
    "print(\"x is Less than or equal to :\",x <= y)"
   ]
  },
  {
   "cell_type": "markdown",
   "metadata": {},
   "source": [
    "# Program 4: Write a program to perform logical operators."
   ]
  },
  {
   "cell_type": "code",
   "execution_count": 15,
   "metadata": {},
   "outputs": [
    {
     "name": "stdout",
     "output_type": "stream",
     "text": [
      "True\n",
      "True\n",
      "False\n"
     ]
    }
   ],
   "source": [
    "x = 15\n",
    "print(x > 13 and x < 20)\n",
    "x = 25\n",
    "print(x > 23 or x < 24)\n",
    "x = 35\n",
    "print(not(x > 33 and x < 40))"
   ]
  },
  {
   "cell_type": "markdown",
   "metadata": {},
   "source": [
    "# Program 5: Write a program to perform identity operator."
   ]
  },
  {
   "cell_type": "code",
   "execution_count": 16,
   "metadata": {},
   "outputs": [
    {
     "name": "stdout",
     "output_type": "stream",
     "text": [
      "True\n",
      "False\n",
      "True\n"
     ]
    }
   ],
   "source": [
    "x = [\"ahmed\", \"bashir\"]\n",
    "y = [\"ahmed\", \"bashir\"]\n",
    "z = x\n",
    "print(x is z)\n",
    "print(x is y)\n",
    "print(x == y)"
   ]
  },
  {
   "cell_type": "markdown",
   "metadata": {},
   "source": [
    "# Program 6: Performing is not identity operation."
   ]
  },
  {
   "cell_type": "code",
   "execution_count": 20,
   "metadata": {},
   "outputs": [
    {
     "name": "stdout",
     "output_type": "stream",
     "text": [
      "False\n",
      "True\n"
     ]
    }
   ],
   "source": [
    "x = [\"ahmed\", \"bashir\"]\n",
    "y = [\"ahmed\", \"bashir\"]\n",
    "z = x\n",
    "print(x is not z)\n",
    "print(x is not y)\n",
    "# print(x <> y)"
   ]
  },
  {
   "cell_type": "markdown",
   "metadata": {},
   "source": [
    "# Program 7: Performing 'in' membership operation."
   ]
  },
  {
   "cell_type": "code",
   "execution_count": 23,
   "metadata": {},
   "outputs": [
    {
     "name": "stdout",
     "output_type": "stream",
     "text": [
      "in membership operator is: True\n"
     ]
    }
   ],
   "source": [
    "x = [\"wasim\", \"lubaid\", \"shahroz\", \"usman\", \"faisal\", \"farhan\"]\n",
    "print('in membership operator is:',\"faisal\" in x)"
   ]
  },
  {
   "cell_type": "markdown",
   "metadata": {},
   "source": [
    "# Program 8: Performing 'not in' membership operation."
   ]
  },
  {
   "cell_type": "code",
   "execution_count": 24,
   "metadata": {},
   "outputs": [
    {
     "name": "stdout",
     "output_type": "stream",
     "text": [
      "not in operator is: True\n"
     ]
    }
   ],
   "source": [
    "x = [\"wasim\", \"lubaid\", \"shahroz\", \"usman\", \"faisal\", \"farhan\"]\n",
    "print('not in operator is:',\"parkash\" not in x)"
   ]
  },
  {
   "cell_type": "markdown",
   "metadata": {},
   "source": [
    "# Program 9: You are planning to throw a small bird at a distance d, with time t, and height h to\n",
    "some structure. Write a code in which you will use the physical quantities such as initial velocity,\n",
    "final velocity, angle in radians, gravity, height, sling shot etc."
   ]
  },
  {
   "cell_type": "code",
   "execution_count": 8,
   "metadata": {},
   "outputs": [
    {
     "name": "stdout",
     "output_type": "stream",
     "text": [
      "give me a velocity to fire at(in m/s):9.8\n",
      "Give me an angle to fire at: 5.6\n",
      "Give me how far away you are from the structure: 20.3\n",
      "Give me the height of the structure (in meters): 20.0\n",
      "final velocity is: 20.324147124653987\n"
     ]
    }
   ],
   "source": [
    "import math\n",
    "# user input\n",
    "velocity= float(input(\"give me a velocity to fire at(in m/s):\"))\n",
    "angle = float(input('Give me an angle to fire at: '))\n",
    "distance = float(input('Give me how far away you are from the structure: '))\n",
    "height = float(input('Give me the height of the structure (in meters): '))\n",
    "slingshot = 5 #Height of slingshot in meters\n",
    "gravity = 9.8 #Earth gravity\n",
    "# Converting angles to radians\n",
    "angleRad = math.radians(angle)\n",
    "# Computing our x and y coordinate\n",
    "x = math.cos(angleRad)\n",
    "y = math.sin(angleRad)\n",
    "# Calculations\n",
    "time = distance/(velocity * x)\n",
    "vx = x\n",
    "vy = y + (-9.8 * time)\n",
    "finalvelocity = math.sqrt((vx ** 2) + (vy ** 2))\n",
    "print(\"final velocity is:\", finalvelocity)"
   ]
  },
  {
   "cell_type": "markdown",
   "metadata": {},
   "source": [
    "# Programming Exercise"
   ]
  },
  {
   "cell_type": "markdown",
   "metadata": {},
   "source": [
    "# Question 1. A ball at the end of a string is revolving uniformly in a horizontal circle of radius 2 meters at\n",
    "constant angular speed 10 rad/s. Determine the magnitude of the linear velocity of a point located:"
   ]
  },
  {
   "cell_type": "code",
   "execution_count": 31,
   "metadata": {},
   "outputs": [
    {
     "name": "stdout",
     "output_type": "stream",
     "text": [
      "linear velocity is: 5.0 m/s\n"
     ]
    }
   ],
   "source": [
    "import math\n",
    "#radius \n",
    "r = 0.5 \n",
    "#angular speed\n",
    "w = 10 \n",
    "#linear velocity \n",
    "v= r*w \n",
    "print(\"linear velocity is:\", v, \"m/s\")"
   ]
  },
  {
   "cell_type": "code",
   "execution_count": 30,
   "metadata": {},
   "outputs": [
    {
     "name": "stdout",
     "output_type": "stream",
     "text": [
      "linear velocity is: 10 m/s\n"
     ]
    }
   ],
   "source": [
    "# b) 1 meter center from radius\n",
    "import math\n",
    "# radius\n",
    "r = 1\n",
    "# angular velocity\n",
    "w = 10\n",
    "# linear velocity\n",
    "v = r*w\n",
    "print('linear velocity is:', v, \"m/s\" )"
   ]
  },
  {
   "cell_type": "code",
   "execution_count": 32,
   "metadata": {},
   "outputs": [
    {
     "name": "stdout",
     "output_type": "stream",
     "text": [
      "linear velocity is: 20 m/s\n"
     ]
    }
   ],
   "source": [
    "# c) \n",
    "import math\n",
    "r = 2\n",
    "w = 10\n",
    "v = r*w\n",
    "print(\"linear velocity is:\", v, \"m/s\")"
   ]
  },
  {
   "cell_type": "markdown",
   "metadata": {},
   "source": [
    "# Question 2. The blades in a blender rotate at a rate of 5000 rpm. Determine the magnitude of the linear velocity: "
   ]
  },
  {
   "cell_type": "code",
   "execution_count": 7,
   "metadata": {},
   "outputs": [
    {
     "name": "stdout",
     "output_type": "stream",
     "text": [
      "The magnitude of the linear velocity is: 2616.5 m/s\n"
     ]
    }
   ],
   "source": [
    "#(a) a point located 5 cm from the center\n",
    "r = 5\n",
    "# angular speed = w\n",
    "w = 523.3 \n",
    "v = r*w\n",
    "print(\"The magnitude of the linear velocity is:\", v, \"m/s\" )"
   ]
  },
  {
   "cell_type": "code",
   "execution_count": 12,
   "metadata": {},
   "outputs": [
    {
     "name": "stdout",
     "output_type": "stream",
     "text": [
      "the magnitude of the linear velocity is: 5233.0 m/s\n"
     ]
    }
   ],
   "source": [
    "#(b) a point located 10 cm from the center\n",
    "r = 10\n",
    "w = 523.3\n",
    "v = r*w\n",
    "print(\"the magnitude of the linear velocity is:\", v, \"m/s\")"
   ]
  },
  {
   "cell_type": "markdown",
   "metadata": {},
   "source": [
    "# Question 3. A point on the edge of a wheel 30 cm in radius, around a circle at constant speed 10 meters/second."
   ]
  },
  {
   "cell_type": "code",
   "execution_count": 17,
   "metadata": {},
   "outputs": [
    {
     "name": "stdout",
     "output_type": "stream",
     "text": [
      "Angular speed is: 33.333333333333336 rad/sec\n"
     ]
    }
   ],
   "source": [
    "# Radius(r) = 30cm\n",
    "r = 0.3\n",
    "# Linear_velocity\n",
    "v = 10\n",
    "# angular_speed(w)\n",
    "w = v/r\n",
    "print(\"Angular speed is:\", w, \"rad/sec\")"
   ]
  },
  {
   "cell_type": "markdown",
   "metadata": {},
   "source": [
    "# Question 4. A car with tires 50 cm in diameter travels 10 meters in 1 second. What is the angular speed? "
   ]
  },
  {
   "cell_type": "code",
   "execution_count": 20,
   "metadata": {},
   "outputs": [
    {
     "name": "stdout",
     "output_type": "stream",
     "text": [
      "Angular speed is: 40.0 rad/sec\n"
     ]
    }
   ],
   "source": [
    "# radius = r\n",
    "r = 0.25\n",
    "# linear velocity = v\n",
    "v = 10\n",
    "# angular speed = w\n",
    "w = v/r\n",
    "print(\"Angular speed is:\", w, \"rad/sec\")"
   ]
  },
  {
   "cell_type": "markdown",
   "metadata": {},
   "source": [
    "# Question 5. The angular speed of wheel 20 cm in radians is 120 rpm. What is the distance if the car travels in 10 seconds. "
   ]
  },
  {
   "cell_type": "code",
   "execution_count": 26,
   "metadata": {},
   "outputs": [
    {
     "name": "stdout",
     "output_type": "stream",
     "text": [
      "The linear velocity is: 2.5120000000000005 m/s\n",
      "the distance travel by car is: 25.120000000000005 m\n"
     ]
    }
   ],
   "source": [
    "radius = r\n",
    "r = 0.2\n",
    "angular_speed = w\n",
    "w = 12.56\n",
    "linear_velocity = v\n",
    "v = r*w\n",
    "time = t\n",
    "t = 10\n",
    "# distance travel by car = s\n",
    "s = v*t\n",
    "print(\"The linear velocity is:\", v, \"m/s\")\n",
    "print(\"the distance travel by car is:\", s, \"m\")"
   ]
  },
  {
   "cell_type": "markdown",
   "metadata": {},
   "source": [
    "# Question 6: A car is running at a velocity of 50 miles per hour and the driver accelerates the car by 10 miles/hr2. How far the car travels from this point in the next 2 hours, if the acceleration is constant. "
   ]
  },
  {
   "cell_type": "code",
   "execution_count": 29,
   "metadata": {},
   "outputs": [
    {
     "name": "stdout",
     "output_type": "stream",
     "text": [
      "The final velocity of car is: 70 miles/hr\n",
      "The distance travel by car is: 140 miles\n"
     ]
    }
   ],
   "source": [
    "# velocity of car = u\n",
    "u = 50\n",
    "#accelration = a\n",
    "a = 10\n",
    "# time = t\n",
    "t = 2\n",
    "# final velocity of car = v\n",
    "v = u+a*t\n",
    "print(\"The final velocity of car is:\", v, \"miles/hr\")\n",
    "# distance = s\n",
    "s = v*t\n",
    "print(\"The distance travel by car is:\", s, \"miles\")"
   ]
  },
  {
   "cell_type": "markdown",
   "metadata": {},
   "source": [
    "# Question 7: A Stone is dropped freely from a height of 100 feet. With what velocity will it hit the ground? (Neglect the air resistance and assume the acceleration due to gravity is 32ft/s2). "
   ]
  },
  {
   "cell_type": "code",
   "execution_count": 35,
   "metadata": {},
   "outputs": [
    {
     "name": "stdout",
     "output_type": "stream",
     "text": [
      "The velocity stone will hit the ground is: 80.0 ft/m\n"
     ]
    }
   ],
   "source": [
    "import math\n",
    "# height = s\n",
    "s = 100\n",
    "# acceleration = a\n",
    "a = 32\n",
    "# initial velocity = u\n",
    "u = 0\n",
    "# final velocity = v\n",
    "v = math.sqrt((2*a*s) + u**2)\n",
    "print(\"The velocity stone will hit the ground is:\", v, \"ft/m\")"
   ]
  },
  {
   "cell_type": "code",
   "execution_count": null,
   "metadata": {},
   "outputs": [],
   "source": []
  }
 ],
 "metadata": {
  "kernelspec": {
   "display_name": "Python 3",
   "language": "python",
   "name": "python3"
  },
  "language_info": {
   "codemirror_mode": {
    "name": "ipython",
    "version": 3
   },
   "file_extension": ".py",
   "mimetype": "text/x-python",
   "name": "python",
   "nbconvert_exporter": "python",
   "pygments_lexer": "ipython3",
   "version": "3.6.5"
  }
 },
 "nbformat": 4,
 "nbformat_minor": 2
}
